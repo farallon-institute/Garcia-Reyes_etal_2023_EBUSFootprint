{
 "cells": [
  {
   "cell_type": "markdown",
   "id": "3b206ade-470d-4893-b49e-42ae94095030",
   "metadata": {},
   "source": [
    "# Script 7 - Calculate new Monte Carlo p-values"
   ]
  },
  {
   "cell_type": "code",
   "execution_count": null,
   "id": "5b1a2544",
   "metadata": {},
   "outputs": [],
   "source": [
    "import numpy as np\n",
    "import pandas as pd\n",
    "import matplotlib.pyplot as plt\n",
    "import seaborn as sns\n",
    "import scipy.stats as stat\n",
    "import warnings\n",
    "warnings.simplefilter('ignore') # filter some warning messages\n",
    "\n",
    "ebus = ['California','Humboldt','Iberian/Canary','Benguela']\n",
    "subs = ['Equatorward','Central','Poleward']"
   ]
  },
  {
   "cell_type": "markdown",
   "id": "189c49da",
   "metadata": {
    "tags": []
   },
   "source": [
    "# Annual percentage of SST footprint"
   ]
  },
  {
   "cell_type": "code",
   "execution_count": null,
   "id": "42ae0c64",
   "metadata": {},
   "outputs": [],
   "source": [
    "#read in regression results\n",
    "gamdf = pd.read_csv('../data/EBUS_glm_FullModel_Trends_Modified-Subregions.csv', index_col = 0)\n",
    "\n",
    "#read in sst footprint\n",
    "df1 = pd.read_csv('../data/upwellingfootprint_annualsummary_nearshore_Modified-Subregions.csv')\n",
    "df1 = df1.rename({'Random_name':'Region'}, axis = 1)\n",
    "gamdf"
   ]
  },
  {
   "cell_type": "code",
   "execution_count": null,
   "id": "a5d4fb77",
   "metadata": {},
   "outputs": [],
   "source": [
    "# monte carlo permrutation. 2-tail t test\n",
    "plt.figure(figsize=(10,10))\n",
    "pvtmp1=list()\n",
    "gpv = list()\n",
    "nnam = list()\n",
    "i = 1\n",
    "for eb in ebus:\n",
    "    for rg in subs:\n",
    "        sebus = eb+'-'+rg\n",
    "        nnam.append(sebus)\n",
    "        #print('\\n',sebus)\n",
    "\n",
    "        gtmp = gamdf[(gamdf['EBUS']==eb)&(gamdf['Subregion']==rg)]\n",
    "        dft = df1[df1['Region']==sebus]\n",
    "\n",
    "        x=dft['Year'].values\n",
    "        y=dft['Percent'].values\n",
    "        slope, intercept, r_value, p_value, std_err = stat.linregress(x,y)\n",
    "\n",
    "        mu=np.mean(y)\n",
    "        sig = np.std(y)\n",
    "        n= len(x)\n",
    "        m=10000\n",
    "        slps = np.full((m),np.nan)\n",
    "        for k in range(m):\n",
    "            ny=np.random.normal(mu, sig, n) #classic monte carlo\n",
    "            #ny2=np.random.permutation(y) #permutation monte carlo\n",
    "            slopes, intercept, r_value, p_values, std_err = stat.linregress(x,ny)\n",
    "            slps[k]=slopes\n",
    "\n",
    "        plt.subplot(4,3,i)\n",
    "        sns.histplot(slps, kde=True, bins=20)\n",
    "        pperc = np.percentile(slps,[2.5,97.5])\n",
    "\n",
    "        plt.axvline(x=pperc[0],c='b')\n",
    "        plt.axvline(x=pperc[1],c='b')\n",
    "        plt.axvline(x=slope,c='r')\n",
    "        if slope<=0:\n",
    "            conf = (np.sum(slps<=slope)+1)/(m+1)\n",
    "        else:\n",
    "            conf = (np.sum(slps>=slope)+1)/(m+1)\n",
    "        pvtmp1.append(np.round(conf,3))\n",
    "        plt.grid()\n",
    "        plt.title(sebus)\n",
    "        if conf<=0.025:\n",
    "            print(sebus, np.round(gtmp['p.value'].values[0],3),np.round(conf,3),'*')\n",
    "        else:\n",
    "            print(sebus, np.round(gtmp['p.value'].values[0],3),np.round(conf,3))\n",
    "        gpv.append(np.round(gtmp['p.value'].values[0],3))\n",
    "       \n",
    "        i += 1\n",
    "        \n",
    "plt.tight_layout()\n",
    "plt.show()\n"
   ]
  },
  {
   "cell_type": "code",
   "execution_count": null,
   "id": "babf5d40",
   "metadata": {},
   "outputs": [],
   "source": [
    "dfp = pd.DataFrame({'EBUS-sub':nnam,'Footprint p-model':gpv,'Footprint p-montec':pvtmp1})\n",
    "print('Modified Subregion p-values:')\n",
    "dfp\n"
   ]
  },
  {
   "cell_type": "markdown",
   "id": "ca5ffe4d",
   "metadata": {},
   "source": [
    "# Seasonal SST means"
   ]
  },
  {
   "cell_type": "code",
   "execution_count": null,
   "id": "5e7ed80f",
   "metadata": {},
   "outputs": [],
   "source": [
    "#read in data on SST footprint\n",
    "df1 = pd.read_csv('../data/upwellingfootprint_seasonal_nearshore_Modified-Subregions.csv')\n",
    "df1 = df1.rename({'Season_month':'Month'}, axis = 1)\n",
    "df1['time'] = pd.to_datetime(df1[['Year', 'Month']].assign(day=1))\n",
    "df1[['EBUS', 'Subregion']] = df1['Random_name'].str.split('-', 1, expand=True)\n",
    "\n",
    "#reat in data on seasonal trends\n",
    "gtre = pd.read_csv('../data/seasonal_trends_percent_Modified-Subregions.csv')\n",
    "gtre['location']=gtre['EBUS']+'-'+gtre['Subregion']\n",
    "gtre.head(10)"
   ]
  },
  {
   "cell_type": "code",
   "execution_count": null,
   "id": "b30a64b0",
   "metadata": {},
   "outputs": [],
   "source": [
    "# prepare data for montecarlo\n",
    "df2 = df1[['EBUS','Subregion','time','Month','Percent']]\n",
    "df2['season']=np.nan\n",
    "ses = ['winter','spring','summer','fall']\n",
    "for eb in ebus:\n",
    "    if (eb==ebus[1]) | (eb==ebus[3]):\n",
    "        smon=[6,9,12,3]   \n",
    "    else:\n",
    "        smon=[12,3,6,9]\n",
    "    j=0\n",
    "    for i in smon:\n",
    "        a = (df2['EBUS']==eb)&(df2['Month']==i)\n",
    "        df2['season'][a]=ses[j]\n",
    "        j+=1\n",
    "df2['year']=pd.DatetimeIndex(df2['time']).year\n",
    "df2['location']=df2['EBUS']+'-'+df2['Subregion']\n",
    "df2"
   ]
  },
  {
   "cell_type": "code",
   "execution_count": null,
   "id": "ce639b66",
   "metadata": {},
   "outputs": [],
   "source": [
    "# monte carlo permutations\n",
    "pvmonte = np.full((12,4),np.nan)\n",
    "pvgam= np.full((12,4),np.nan)\n",
    "i=0 # reg\n",
    "for eb in ebus:\n",
    "    for rg in subs:\n",
    "        sebus = eb+'-'+rg\n",
    "        j=0\n",
    "        for senam in ses:\n",
    "            #print(sebus)\n",
    "            dft = df2[(df2['location']==sebus)&(df2['season']==senam)]\n",
    "            gdft = gtre[(gtre['location']==sebus)&(gtre['Season']==senam.capitalize())]\n",
    "\n",
    "            x=dft['year'].values\n",
    "            y=dft['Percent'].values\n",
    "            slope, intercept, r_value, p_value, std_err = stat.linregress(x,y)\n",
    "\n",
    "            mu=np.mean(y)\n",
    "            sig = np.std(y)\n",
    "            n = len(x)\n",
    "            m=10000\n",
    "            slps = np.full((m),np.nan)\n",
    "\n",
    "            for k in range(m):\n",
    "                ny=np.random.normal(mu, sig, n) #classic monte carlo\n",
    "                #ny2=np.random.permutation(y) #permutation monte carlo\n",
    "                slopes, intercept, r_value, p_values, std_err = stat.linregress(x,ny)\n",
    "                slps[k]=slopes\n",
    "\n",
    "            if slope<=0:\n",
    "                conf = (np.sum(slps<=slope)+1)/(m+1)\n",
    "            else:\n",
    "                conf = (np.sum(slps>=slope)+1)/(m+1)\n",
    "            if conf<=0.025:\n",
    "                print(sebus, senam,np.round(gdft['p.value'].values,3),np.round(conf,3),'*')\n",
    "            else:\n",
    "                print(sebus, senam,np.round(gdft['p.value'].values,3),np.round(conf,3))\n",
    "            pvmonte[i,j]=np.round(conf,3)\n",
    "            pvgam[i,j]=np.round(gdft['p.value'].values,3)\n",
    "            j += 1\n",
    "        i+=1\n",
    "        \n"
   ]
  },
  {
   "cell_type": "code",
   "execution_count": null,
   "id": "007b4562-462f-484a-90b1-9f6e52a5cfed",
   "metadata": {},
   "outputs": [],
   "source": [
    "eb = 'Iberian/Canary'\n",
    "rg = 'Central'\n",
    "sebus = eb+'-'+rg\n",
    "j=0\n",
    "senam = 'fall'\n",
    "#print(sebus)\n",
    "dft = df2[(df2['location']==sebus)&(df2['season']==senam)]\n",
    "gdft = gtre[(gtre['location']==sebus)&(gtre['Season']==senam.capitalize())]\n",
    "\n",
    "x=dft['year'].values\n",
    "y=dft['Percent'].values\n",
    "slope, intercept, r_value, p_value, std_err = stat.linregress(x,y)\n",
    "\n",
    "mu=np.mean(y)\n",
    "sig = np.std(y)\n",
    "n = len(x)\n",
    "m=10000\n",
    "slps = np.full((m),np.nan)\n",
    "                \n",
    "for k in range(m):\n",
    "    ny=np.random.normal(mu, sig, n) #classic monte carlo\n",
    "    #ny2=np.random.permutation(y) #permutation monte carlo\n",
    "    slopes, intercept, r_value, p_values, std_err = stat.linregress(x,ny)\n",
    "    slps[k]=slopes\n",
    "\n",
    "if slope<=0:\n",
    "    conf = (np.sum(slps<=slope)+1)/(m+1)\n",
    "else:\n",
    "    conf = (np.sum(slps>=slope)+1)/(m+1)\n",
    "if conf<=0.025:\n",
    "    print(sebus, senam,np.round(gdft['p.value'].values,3),np.round(conf,3),'*')\n",
    "else:\n",
    "    print(sebus, senam,np.round(gdft['p.value'].values,3),np.round(conf,3))\n",
    "\n",
    "sns.histplot(slps, kde=True, bins=20)\n",
    "pperc = np.percentile(slps,[2.5,97.5])\n",
    "\n",
    "plt.axvline(x=pperc[0],c='b')\n",
    "plt.axvline(x=pperc[1],c='b')\n",
    "plt.axvline(x=slope,c='r')\n",
    "if slope<=0:\n",
    "    conf = (np.sum(slps<=slope)+1)/(m+1)\n",
    "else:\n",
    "    conf = (np.sum(slps>=slope)+1)/(m+1)\n",
    "pvtmp1.append(np.round(conf,3))\n",
    "plt.grid()\n",
    "plt.title(sebus + senam)"
   ]
  },
  {
   "cell_type": "code",
   "execution_count": null,
   "id": "8f40dd39",
   "metadata": {
    "scrolled": true
   },
   "outputs": [],
   "source": [
    "dfp['winter SST p-model']=pvgam[:,0]\n",
    "dfp['spring SST p-model']=pvgam[:,1]\n",
    "dfp['summer SST p-model']=pvgam[:,2]\n",
    "dfp['fall SST p-model']=pvgam[:,3]\n",
    "dfp"
   ]
  },
  {
   "cell_type": "code",
   "execution_count": null,
   "id": "d9f39dcd",
   "metadata": {},
   "outputs": [],
   "source": [
    "dfp['winter SST p-montec']=pvmonte[:,0]\n",
    "dfp['spring SST p-montec']=pvmonte[:,1]\n",
    "dfp['summer SST p-montec']=pvmonte[:,2]\n",
    "dfp['fall SST p-montec']=pvmonte[:,3]\n",
    "dfp"
   ]
  },
  {
   "cell_type": "code",
   "execution_count": null,
   "id": "91f9547c",
   "metadata": {},
   "outputs": [],
   "source": [
    "#save data\n",
    "dfp.to_csv('../data/monte-carlo_pvalues_classic_Modified-Subregions.csv')"
   ]
  },
  {
   "cell_type": "code",
   "execution_count": null,
   "id": "21f8d651-dddf-41b4-b62d-c78e2a58d3cc",
   "metadata": {},
   "outputs": [],
   "source": []
  }
 ],
 "metadata": {
  "kernelspec": {
   "display_name": "Python 3 (ipykernel)",
   "language": "python",
   "name": "python3"
  },
  "language_info": {
   "codemirror_mode": {
    "name": "ipython",
    "version": 3
   },
   "file_extension": ".py",
   "mimetype": "text/x-python",
   "name": "python",
   "nbconvert_exporter": "python",
   "pygments_lexer": "ipython3",
   "version": "3.10.4"
  }
 },
 "nbformat": 4,
 "nbformat_minor": 5
}
